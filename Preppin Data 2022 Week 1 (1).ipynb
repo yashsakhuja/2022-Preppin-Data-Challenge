{
 "cells": [
  {
   "cell_type": "markdown",
   "metadata": {},
   "source": [
    "# Preppin Data 2022 Week 1 "
   ]
  },
  {
   "cell_type": "markdown",
   "metadata": {},
   "source": [
    "Dataset: https://drive.google.com/file/d/1p8gt3cR3ATCeGK81pnT90x0a6dbCXst1/view\n",
    "\n",
    "Challenge: https://preppindata.blogspot.com/2022/01/2022-week-1-prep-school-parental.html"
   ]
  },
  {
   "cell_type": "code",
   "execution_count": 1,
   "metadata": {},
   "outputs": [
    {
     "name": "stderr",
     "output_type": "stream",
     "text": [
      "<frozen importlib._bootstrap>:219: RuntimeWarning: numpy.ufunc size changed, may indicate binary incompatibility. Expected 192 from C header, got 216 from PyObject\n"
     ]
    }
   ],
   "source": [
    "#Importing Packages\n",
    "import pandas as pd\n",
    "import numpy as np"
   ]
  },
  {
   "cell_type": "code",
   "execution_count": 157,
   "metadata": {},
   "outputs": [],
   "source": [
    "#Importing Data\n",
    "data=pd.read_csv('C:/Users/yash/Downloads/PD 2022 Wk 1 Input - Input.csv')"
   ]
  },
  {
   "cell_type": "code",
   "execution_count": 158,
   "metadata": {},
   "outputs": [
    {
     "data": {
      "text/html": [
       "<div>\n",
       "<style scoped>\n",
       "    .dataframe tbody tr th:only-of-type {\n",
       "        vertical-align: middle;\n",
       "    }\n",
       "\n",
       "    .dataframe tbody tr th {\n",
       "        vertical-align: top;\n",
       "    }\n",
       "\n",
       "    .dataframe thead th {\n",
       "        text-align: right;\n",
       "    }\n",
       "</style>\n",
       "<table border=\"1\" class=\"dataframe\">\n",
       "  <thead>\n",
       "    <tr style=\"text-align: right;\">\n",
       "      <th></th>\n",
       "      <th>id</th>\n",
       "      <th>pupil first name</th>\n",
       "      <th>pupil last name</th>\n",
       "      <th>gender</th>\n",
       "      <th>Date of Birth</th>\n",
       "      <th>Parental Contact Name_1</th>\n",
       "      <th>Parental Contact Name_2</th>\n",
       "      <th>Preferred Contact Employer</th>\n",
       "      <th>Parental Contact</th>\n",
       "    </tr>\n",
       "  </thead>\n",
       "  <tbody>\n",
       "    <tr>\n",
       "      <th>0</th>\n",
       "      <td>1</td>\n",
       "      <td>Ronna</td>\n",
       "      <td>Nellies</td>\n",
       "      <td>Female</td>\n",
       "      <td>12/21/2013</td>\n",
       "      <td>Purcell</td>\n",
       "      <td>Ketti</td>\n",
       "      <td>Demizz</td>\n",
       "      <td>1</td>\n",
       "    </tr>\n",
       "    <tr>\n",
       "      <th>1</th>\n",
       "      <td>2</td>\n",
       "      <td>Rusty</td>\n",
       "      <td>Andriulis</td>\n",
       "      <td>Male</td>\n",
       "      <td>7/21/2012</td>\n",
       "      <td>Vassili</td>\n",
       "      <td>Rivi</td>\n",
       "      <td>Brainbox</td>\n",
       "      <td>1</td>\n",
       "    </tr>\n",
       "    <tr>\n",
       "      <th>2</th>\n",
       "      <td>3</td>\n",
       "      <td>Roberta</td>\n",
       "      <td>Oakeshott</td>\n",
       "      <td>Female</td>\n",
       "      <td>12/4/2011</td>\n",
       "      <td>Lind</td>\n",
       "      <td>Haskell</td>\n",
       "      <td>Centidel</td>\n",
       "      <td>2</td>\n",
       "    </tr>\n",
       "    <tr>\n",
       "      <th>3</th>\n",
       "      <td>4</td>\n",
       "      <td>Lola</td>\n",
       "      <td>Rubinfajn</td>\n",
       "      <td>Male</td>\n",
       "      <td>6/29/2012</td>\n",
       "      <td>Elie</td>\n",
       "      <td>Tresa</td>\n",
       "      <td>Edgeblab</td>\n",
       "      <td>2</td>\n",
       "    </tr>\n",
       "    <tr>\n",
       "      <th>4</th>\n",
       "      <td>5</td>\n",
       "      <td>Kamila</td>\n",
       "      <td>Benedtti</td>\n",
       "      <td>Female</td>\n",
       "      <td>7/10/2012</td>\n",
       "      <td>Adela</td>\n",
       "      <td>Clevey</td>\n",
       "      <td>Trudoo</td>\n",
       "      <td>1</td>\n",
       "    </tr>\n",
       "  </tbody>\n",
       "</table>\n",
       "</div>"
      ],
      "text/plain": [
       "   id pupil first name pupil last name  gender Date of Birth  \\\n",
       "0   1            Ronna         Nellies  Female    12/21/2013   \n",
       "1   2            Rusty       Andriulis    Male     7/21/2012   \n",
       "2   3          Roberta       Oakeshott  Female     12/4/2011   \n",
       "3   4             Lola       Rubinfajn    Male     6/29/2012   \n",
       "4   5           Kamila        Benedtti  Female     7/10/2012   \n",
       "\n",
       "  Parental Contact Name_1 Parental Contact Name_2 Preferred Contact Employer  \\\n",
       "0                 Purcell                   Ketti                     Demizz   \n",
       "1                 Vassili                    Rivi                   Brainbox   \n",
       "2                    Lind                 Haskell                   Centidel   \n",
       "3                    Elie                   Tresa                   Edgeblab   \n",
       "4                   Adela                  Clevey                     Trudoo   \n",
       "\n",
       "   Parental Contact  \n",
       "0                 1  \n",
       "1                 1  \n",
       "2                 2  \n",
       "3                 2  \n",
       "4                 1  "
      ]
     },
     "execution_count": 158,
     "metadata": {},
     "output_type": "execute_result"
    }
   ],
   "source": [
    "data.head()"
   ]
  },
  {
   "cell_type": "code",
   "execution_count": 159,
   "metadata": {},
   "outputs": [],
   "source": [
    "data['Pupils Name']=data['pupil last name']+\", \"+data['pupil first name']"
   ]
  },
  {
   "cell_type": "code",
   "execution_count": 160,
   "metadata": {},
   "outputs": [],
   "source": [
    "data['Parental Contact Full Name'] =np.where(data['Parental Contact']==1,data['pupil last name']+\", \"+data['Parental Contact Name_1'],data['pupil last name']+\", \"+data['Parental Contact Name_2'] )"
   ]
  },
  {
   "cell_type": "code",
   "execution_count": 161,
   "metadata": {},
   "outputs": [],
   "source": [
    "data['Parental Contact First Name']=np.where(data['Parental Contact']==1,data['Parental Contact Name_1'],data['Parental Contact Name_2'])"
   ]
  },
  {
   "cell_type": "code",
   "execution_count": 162,
   "metadata": {},
   "outputs": [],
   "source": [
    "data['Parental Contact Email Address']=data['Parental Contact First Name']+'.'+data['pupil last name']+'@'+data['Preferred Contact Employer']+'.com'"
   ]
  },
  {
   "cell_type": "code",
   "execution_count": 163,
   "metadata": {},
   "outputs": [],
   "source": [
    "import datetime as dt"
   ]
  },
  {
   "cell_type": "code",
   "execution_count": 164,
   "metadata": {},
   "outputs": [],
   "source": [
    "data['Date of Birth']=pd.to_datetime(data['Date of Birth'])"
   ]
  },
  {
   "cell_type": "code",
   "execution_count": 165,
   "metadata": {},
   "outputs": [],
   "source": [
    "start_date=dt.datetime.strptime('08-30-2015','%m-%d-%Y')"
   ]
  },
  {
   "cell_type": "code",
   "execution_count": 166,
   "metadata": {},
   "outputs": [],
   "source": [
    "data['Difference_Days']=start_date-data['Date of Birth']"
   ]
  },
  {
   "cell_type": "code",
   "execution_count": 167,
   "metadata": {},
   "outputs": [],
   "source": [
    "data['Difference_Days']= data['Difference_Days'] / np.timedelta64(1, 'Y')"
   ]
  },
  {
   "cell_type": "code",
   "execution_count": 168,
   "metadata": {},
   "outputs": [],
   "source": [
    "data['Difference_Days'] = data['Difference_Days'].apply(np.ceil).astype(int)"
   ]
  },
  {
   "cell_type": "code",
   "execution_count": 169,
   "metadata": {},
   "outputs": [],
   "source": [
    "data=data.rename(columns={\"Difference_Days\":\"Academic Year\"})"
   ]
  },
  {
   "cell_type": "code",
   "execution_count": 170,
   "metadata": {},
   "outputs": [
    {
     "data": {
      "text/html": [
       "<div>\n",
       "<style scoped>\n",
       "    .dataframe tbody tr th:only-of-type {\n",
       "        vertical-align: middle;\n",
       "    }\n",
       "\n",
       "    .dataframe tbody tr th {\n",
       "        vertical-align: top;\n",
       "    }\n",
       "\n",
       "    .dataframe thead th {\n",
       "        text-align: right;\n",
       "    }\n",
       "</style>\n",
       "<table border=\"1\" class=\"dataframe\">\n",
       "  <thead>\n",
       "    <tr style=\"text-align: right;\">\n",
       "      <th></th>\n",
       "      <th>id</th>\n",
       "      <th>pupil first name</th>\n",
       "      <th>pupil last name</th>\n",
       "      <th>gender</th>\n",
       "      <th>Date of Birth</th>\n",
       "      <th>Parental Contact Name_1</th>\n",
       "      <th>Parental Contact Name_2</th>\n",
       "      <th>Preferred Contact Employer</th>\n",
       "      <th>Parental Contact</th>\n",
       "      <th>Pupils Name</th>\n",
       "      <th>Parental Contact Full Name</th>\n",
       "      <th>Parental Contact First Name</th>\n",
       "      <th>Parental Contact Email Address</th>\n",
       "      <th>Academic Year</th>\n",
       "    </tr>\n",
       "  </thead>\n",
       "  <tbody>\n",
       "    <tr>\n",
       "      <th>0</th>\n",
       "      <td>1</td>\n",
       "      <td>Ronna</td>\n",
       "      <td>Nellies</td>\n",
       "      <td>Female</td>\n",
       "      <td>2013-12-21</td>\n",
       "      <td>Purcell</td>\n",
       "      <td>Ketti</td>\n",
       "      <td>Demizz</td>\n",
       "      <td>1</td>\n",
       "      <td>Nellies, Ronna</td>\n",
       "      <td>Nellies, Purcell</td>\n",
       "      <td>Purcell</td>\n",
       "      <td>Purcell.Nellies@Demizz.com</td>\n",
       "      <td>2</td>\n",
       "    </tr>\n",
       "    <tr>\n",
       "      <th>1</th>\n",
       "      <td>2</td>\n",
       "      <td>Rusty</td>\n",
       "      <td>Andriulis</td>\n",
       "      <td>Male</td>\n",
       "      <td>2012-07-21</td>\n",
       "      <td>Vassili</td>\n",
       "      <td>Rivi</td>\n",
       "      <td>Brainbox</td>\n",
       "      <td>1</td>\n",
       "      <td>Andriulis, Rusty</td>\n",
       "      <td>Andriulis, Vassili</td>\n",
       "      <td>Vassili</td>\n",
       "      <td>Vassili.Andriulis@Brainbox.com</td>\n",
       "      <td>4</td>\n",
       "    </tr>\n",
       "  </tbody>\n",
       "</table>\n",
       "</div>"
      ],
      "text/plain": [
       "   id pupil first name pupil last name  gender Date of Birth  \\\n",
       "0   1            Ronna         Nellies  Female    2013-12-21   \n",
       "1   2            Rusty       Andriulis    Male    2012-07-21   \n",
       "\n",
       "  Parental Contact Name_1 Parental Contact Name_2 Preferred Contact Employer  \\\n",
       "0                 Purcell                   Ketti                     Demizz   \n",
       "1                 Vassili                    Rivi                   Brainbox   \n",
       "\n",
       "   Parental Contact       Pupils Name Parental Contact Full Name  \\\n",
       "0                 1    Nellies, Ronna           Nellies, Purcell   \n",
       "1                 1  Andriulis, Rusty         Andriulis, Vassili   \n",
       "\n",
       "  Parental Contact First Name  Parental Contact Email Address  Academic Year  \n",
       "0                     Purcell      Purcell.Nellies@Demizz.com              2  \n",
       "1                     Vassili  Vassili.Andriulis@Brainbox.com              4  "
      ]
     },
     "execution_count": 170,
     "metadata": {},
     "output_type": "execute_result"
    }
   ],
   "source": [
    "data.head(2)"
   ]
  },
  {
   "cell_type": "code",
   "execution_count": 171,
   "metadata": {},
   "outputs": [],
   "source": [
    "data=data.drop(['id','pupil first name','pupil last name','gender','Date of Birth','Parental Contact Name_1','Parental Contact Name_2','Preferred Contact Employer','Parental Contact','Parental Contact First Name'],axis=1)"
   ]
  },
  {
   "cell_type": "code",
   "execution_count": 172,
   "metadata": {},
   "outputs": [
    {
     "data": {
      "text/html": [
       "<div>\n",
       "<style scoped>\n",
       "    .dataframe tbody tr th:only-of-type {\n",
       "        vertical-align: middle;\n",
       "    }\n",
       "\n",
       "    .dataframe tbody tr th {\n",
       "        vertical-align: top;\n",
       "    }\n",
       "\n",
       "    .dataframe thead th {\n",
       "        text-align: right;\n",
       "    }\n",
       "</style>\n",
       "<table border=\"1\" class=\"dataframe\">\n",
       "  <thead>\n",
       "    <tr style=\"text-align: right;\">\n",
       "      <th></th>\n",
       "      <th>Pupils Name</th>\n",
       "      <th>Parental Contact Full Name</th>\n",
       "      <th>Parental Contact Email Address</th>\n",
       "      <th>Academic Year</th>\n",
       "    </tr>\n",
       "  </thead>\n",
       "  <tbody>\n",
       "    <tr>\n",
       "      <th>0</th>\n",
       "      <td>Nellies, Ronna</td>\n",
       "      <td>Nellies, Purcell</td>\n",
       "      <td>Purcell.Nellies@Demizz.com</td>\n",
       "      <td>2</td>\n",
       "    </tr>\n",
       "    <tr>\n",
       "      <th>1</th>\n",
       "      <td>Andriulis, Rusty</td>\n",
       "      <td>Andriulis, Vassili</td>\n",
       "      <td>Vassili.Andriulis@Brainbox.com</td>\n",
       "      <td>4</td>\n",
       "    </tr>\n",
       "    <tr>\n",
       "      <th>2</th>\n",
       "      <td>Oakeshott, Roberta</td>\n",
       "      <td>Oakeshott, Haskell</td>\n",
       "      <td>Haskell.Oakeshott@Centidel.com</td>\n",
       "      <td>4</td>\n",
       "    </tr>\n",
       "    <tr>\n",
       "      <th>3</th>\n",
       "      <td>Rubinfajn, Lola</td>\n",
       "      <td>Rubinfajn, Tresa</td>\n",
       "      <td>Tresa.Rubinfajn@Edgeblab.com</td>\n",
       "      <td>4</td>\n",
       "    </tr>\n",
       "    <tr>\n",
       "      <th>4</th>\n",
       "      <td>Benedtti, Kamila</td>\n",
       "      <td>Benedtti, Adela</td>\n",
       "      <td>Adela.Benedtti@Trudoo.com</td>\n",
       "      <td>4</td>\n",
       "    </tr>\n",
       "    <tr>\n",
       "      <th>5</th>\n",
       "      <td>Colebourn, Avery</td>\n",
       "      <td>Colebourn, Dalenna</td>\n",
       "      <td>Dalenna.Colebourn@Linktype.com</td>\n",
       "      <td>3</td>\n",
       "    </tr>\n",
       "    <tr>\n",
       "      <th>6</th>\n",
       "      <td>Klimko, Valentino</td>\n",
       "      <td>Klimko, Onofredo</td>\n",
       "      <td>Onofredo.Klimko@Thoughtblab.com</td>\n",
       "      <td>1</td>\n",
       "    </tr>\n",
       "    <tr>\n",
       "      <th>7</th>\n",
       "      <td>Shearwood, Cal</td>\n",
       "      <td>Shearwood, Berne</td>\n",
       "      <td>Berne.Shearwood@Browseblab.com</td>\n",
       "      <td>1</td>\n",
       "    </tr>\n",
       "    <tr>\n",
       "      <th>8</th>\n",
       "      <td>Truswell, King</td>\n",
       "      <td>Truswell, Evvy</td>\n",
       "      <td>Evvy.Truswell@Photospace.com</td>\n",
       "      <td>3</td>\n",
       "    </tr>\n",
       "    <tr>\n",
       "      <th>9</th>\n",
       "      <td>Stichall, Towney</td>\n",
       "      <td>Stichall, Joyann</td>\n",
       "      <td>Joyann.Stichall@Kwimbee.com</td>\n",
       "      <td>1</td>\n",
       "    </tr>\n",
       "  </tbody>\n",
       "</table>\n",
       "</div>"
      ],
      "text/plain": [
       "          Pupils Name Parental Contact Full Name  \\\n",
       "0      Nellies, Ronna           Nellies, Purcell   \n",
       "1    Andriulis, Rusty         Andriulis, Vassili   \n",
       "2  Oakeshott, Roberta         Oakeshott, Haskell   \n",
       "3     Rubinfajn, Lola           Rubinfajn, Tresa   \n",
       "4    Benedtti, Kamila            Benedtti, Adela   \n",
       "5    Colebourn, Avery         Colebourn, Dalenna   \n",
       "6   Klimko, Valentino           Klimko, Onofredo   \n",
       "7      Shearwood, Cal           Shearwood, Berne   \n",
       "8      Truswell, King             Truswell, Evvy   \n",
       "9    Stichall, Towney           Stichall, Joyann   \n",
       "\n",
       "    Parental Contact Email Address  Academic Year  \n",
       "0       Purcell.Nellies@Demizz.com              2  \n",
       "1   Vassili.Andriulis@Brainbox.com              4  \n",
       "2   Haskell.Oakeshott@Centidel.com              4  \n",
       "3     Tresa.Rubinfajn@Edgeblab.com              4  \n",
       "4        Adela.Benedtti@Trudoo.com              4  \n",
       "5   Dalenna.Colebourn@Linktype.com              3  \n",
       "6  Onofredo.Klimko@Thoughtblab.com              1  \n",
       "7   Berne.Shearwood@Browseblab.com              1  \n",
       "8     Evvy.Truswell@Photospace.com              3  \n",
       "9      Joyann.Stichall@Kwimbee.com              1  "
      ]
     },
     "execution_count": 172,
     "metadata": {},
     "output_type": "execute_result"
    }
   ],
   "source": [
    "data.head(10)"
   ]
  },
  {
   "cell_type": "markdown",
   "metadata": {},
   "source": [
    " End of Code "
   ]
  }
 ],
 "metadata": {
  "kernelspec": {
   "display_name": "Python 3",
   "language": "python",
   "name": "python3"
  },
  "language_info": {
   "codemirror_mode": {
    "name": "ipython",
    "version": 3
   },
   "file_extension": ".py",
   "mimetype": "text/x-python",
   "name": "python",
   "nbconvert_exporter": "python",
   "pygments_lexer": "ipython3",
   "version": "3.8.3"
  }
 },
 "nbformat": 4,
 "nbformat_minor": 4
}
