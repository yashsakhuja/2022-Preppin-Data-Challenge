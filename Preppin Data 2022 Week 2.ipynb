{
 "cells": [
  {
   "cell_type": "markdown",
   "metadata": {},
   "source": [
    "# Preppin Data 2022 Week 2"
   ]
  },
  {
   "cell_type": "code",
   "execution_count": 1,
   "metadata": {},
   "outputs": [],
   "source": [
    "import pandas as pd\n",
    "import numpy as np\n",
    "import datetime as dt"
   ]
  },
  {
   "cell_type": "code",
   "execution_count": 54,
   "metadata": {},
   "outputs": [],
   "source": [
    "data=pd.read_csv('C:/Users/yash/Downloads/PD 2022 Wk 1 Input - Input.csv')"
   ]
  },
  {
   "cell_type": "code",
   "execution_count": 55,
   "metadata": {},
   "outputs": [
    {
     "data": {
      "text/html": [
       "<div>\n",
       "<style scoped>\n",
       "    .dataframe tbody tr th:only-of-type {\n",
       "        vertical-align: middle;\n",
       "    }\n",
       "\n",
       "    .dataframe tbody tr th {\n",
       "        vertical-align: top;\n",
       "    }\n",
       "\n",
       "    .dataframe thead th {\n",
       "        text-align: right;\n",
       "    }\n",
       "</style>\n",
       "<table border=\"1\" class=\"dataframe\">\n",
       "  <thead>\n",
       "    <tr style=\"text-align: right;\">\n",
       "      <th></th>\n",
       "      <th>id</th>\n",
       "      <th>pupil first name</th>\n",
       "      <th>pupil last name</th>\n",
       "      <th>gender</th>\n",
       "      <th>Date of Birth</th>\n",
       "      <th>Parental Contact Name_1</th>\n",
       "      <th>Parental Contact Name_2</th>\n",
       "      <th>Preferred Contact Employer</th>\n",
       "      <th>Parental Contact</th>\n",
       "    </tr>\n",
       "  </thead>\n",
       "  <tbody>\n",
       "    <tr>\n",
       "      <th>0</th>\n",
       "      <td>1</td>\n",
       "      <td>Ronna</td>\n",
       "      <td>Nellies</td>\n",
       "      <td>Female</td>\n",
       "      <td>12/21/2013</td>\n",
       "      <td>Purcell</td>\n",
       "      <td>Ketti</td>\n",
       "      <td>Demizz</td>\n",
       "      <td>1</td>\n",
       "    </tr>\n",
       "    <tr>\n",
       "      <th>1</th>\n",
       "      <td>2</td>\n",
       "      <td>Rusty</td>\n",
       "      <td>Andriulis</td>\n",
       "      <td>Male</td>\n",
       "      <td>7/21/2012</td>\n",
       "      <td>Vassili</td>\n",
       "      <td>Rivi</td>\n",
       "      <td>Brainbox</td>\n",
       "      <td>1</td>\n",
       "    </tr>\n",
       "    <tr>\n",
       "      <th>2</th>\n",
       "      <td>3</td>\n",
       "      <td>Roberta</td>\n",
       "      <td>Oakeshott</td>\n",
       "      <td>Female</td>\n",
       "      <td>12/4/2011</td>\n",
       "      <td>Lind</td>\n",
       "      <td>Haskell</td>\n",
       "      <td>Centidel</td>\n",
       "      <td>2</td>\n",
       "    </tr>\n",
       "    <tr>\n",
       "      <th>3</th>\n",
       "      <td>4</td>\n",
       "      <td>Lola</td>\n",
       "      <td>Rubinfajn</td>\n",
       "      <td>Male</td>\n",
       "      <td>6/29/2012</td>\n",
       "      <td>Elie</td>\n",
       "      <td>Tresa</td>\n",
       "      <td>Edgeblab</td>\n",
       "      <td>2</td>\n",
       "    </tr>\n",
       "    <tr>\n",
       "      <th>4</th>\n",
       "      <td>5</td>\n",
       "      <td>Kamila</td>\n",
       "      <td>Benedtti</td>\n",
       "      <td>Female</td>\n",
       "      <td>7/10/2012</td>\n",
       "      <td>Adela</td>\n",
       "      <td>Clevey</td>\n",
       "      <td>Trudoo</td>\n",
       "      <td>1</td>\n",
       "    </tr>\n",
       "  </tbody>\n",
       "</table>\n",
       "</div>"
      ],
      "text/plain": [
       "   id pupil first name pupil last name  gender Date of Birth  \\\n",
       "0   1            Ronna         Nellies  Female    12/21/2013   \n",
       "1   2            Rusty       Andriulis    Male     7/21/2012   \n",
       "2   3          Roberta       Oakeshott  Female     12/4/2011   \n",
       "3   4             Lola       Rubinfajn    Male     6/29/2012   \n",
       "4   5           Kamila        Benedtti  Female     7/10/2012   \n",
       "\n",
       "  Parental Contact Name_1 Parental Contact Name_2 Preferred Contact Employer  \\\n",
       "0                 Purcell                   Ketti                     Demizz   \n",
       "1                 Vassili                    Rivi                   Brainbox   \n",
       "2                    Lind                 Haskell                   Centidel   \n",
       "3                    Elie                   Tresa                   Edgeblab   \n",
       "4                   Adela                  Clevey                     Trudoo   \n",
       "\n",
       "   Parental Contact  \n",
       "0                 1  \n",
       "1                 1  \n",
       "2                 2  \n",
       "3                 2  \n",
       "4                 1  "
      ]
     },
     "execution_count": 55,
     "metadata": {},
     "output_type": "execute_result"
    }
   ],
   "source": [
    "data.head()"
   ]
  },
  {
   "cell_type": "code",
   "execution_count": 56,
   "metadata": {},
   "outputs": [],
   "source": [
    "#Removing columns that are not required\n",
    "data=data.drop(['id','gender','Parental Contact Name_1','Parental Contact Name_2','Parental Contact','Preferred Contact Employer'],axis=1)"
   ]
  },
  {
   "cell_type": "code",
   "execution_count": 57,
   "metadata": {},
   "outputs": [],
   "source": [
    "data['Pupil Name']=data['pupil first name']+\" \"+data['pupil last name']"
   ]
  },
  {
   "cell_type": "code",
   "execution_count": 58,
   "metadata": {},
   "outputs": [],
   "source": [
    "data=data.drop(['pupil first name','pupil last name'],axis=1)"
   ]
  },
  {
   "cell_type": "code",
   "execution_count": 59,
   "metadata": {},
   "outputs": [
    {
     "data": {
      "text/html": [
       "<div>\n",
       "<style scoped>\n",
       "    .dataframe tbody tr th:only-of-type {\n",
       "        vertical-align: middle;\n",
       "    }\n",
       "\n",
       "    .dataframe tbody tr th {\n",
       "        vertical-align: top;\n",
       "    }\n",
       "\n",
       "    .dataframe thead th {\n",
       "        text-align: right;\n",
       "    }\n",
       "</style>\n",
       "<table border=\"1\" class=\"dataframe\">\n",
       "  <thead>\n",
       "    <tr style=\"text-align: right;\">\n",
       "      <th></th>\n",
       "      <th>Date of Birth</th>\n",
       "      <th>Pupil Name</th>\n",
       "    </tr>\n",
       "  </thead>\n",
       "  <tbody>\n",
       "    <tr>\n",
       "      <th>0</th>\n",
       "      <td>12/21/2013</td>\n",
       "      <td>Ronna Nellies</td>\n",
       "    </tr>\n",
       "    <tr>\n",
       "      <th>1</th>\n",
       "      <td>7/21/2012</td>\n",
       "      <td>Rusty Andriulis</td>\n",
       "    </tr>\n",
       "  </tbody>\n",
       "</table>\n",
       "</div>"
      ],
      "text/plain": [
       "  Date of Birth       Pupil Name\n",
       "0    12/21/2013    Ronna Nellies\n",
       "1     7/21/2012  Rusty Andriulis"
      ]
     },
     "execution_count": 59,
     "metadata": {},
     "output_type": "execute_result"
    }
   ],
   "source": [
    "data.head(2)"
   ]
  },
  {
   "cell_type": "code",
   "execution_count": 60,
   "metadata": {},
   "outputs": [],
   "source": [
    "data['Date of Birth']=pd.to_datetime(data['Date of Birth'])"
   ]
  },
  {
   "cell_type": "code",
   "execution_count": 61,
   "metadata": {},
   "outputs": [
    {
     "data": {
      "text/plain": [
       "Date of Birth    datetime64[ns]\n",
       "Pupil Name               object\n",
       "dtype: object"
      ]
     },
     "execution_count": 61,
     "metadata": {},
     "output_type": "execute_result"
    }
   ],
   "source": [
    "data.dtypes"
   ]
  },
  {
   "cell_type": "code",
   "execution_count": 62,
   "metadata": {},
   "outputs": [],
   "source": [
    "data['month']=data['Date of Birth'].dt.month"
   ]
  },
  {
   "cell_type": "code",
   "execution_count": 63,
   "metadata": {},
   "outputs": [],
   "source": [
    "data['day']=data['Date of Birth'].dt.day"
   ]
  },
  {
   "cell_type": "code",
   "execution_count": 64,
   "metadata": {},
   "outputs": [
    {
     "data": {
      "text/html": [
       "<div>\n",
       "<style scoped>\n",
       "    .dataframe tbody tr th:only-of-type {\n",
       "        vertical-align: middle;\n",
       "    }\n",
       "\n",
       "    .dataframe tbody tr th {\n",
       "        vertical-align: top;\n",
       "    }\n",
       "\n",
       "    .dataframe thead th {\n",
       "        text-align: right;\n",
       "    }\n",
       "</style>\n",
       "<table border=\"1\" class=\"dataframe\">\n",
       "  <thead>\n",
       "    <tr style=\"text-align: right;\">\n",
       "      <th></th>\n",
       "      <th>Date of Birth</th>\n",
       "      <th>Pupil Name</th>\n",
       "      <th>month</th>\n",
       "      <th>day</th>\n",
       "    </tr>\n",
       "  </thead>\n",
       "  <tbody>\n",
       "    <tr>\n",
       "      <th>0</th>\n",
       "      <td>2013-12-21</td>\n",
       "      <td>Ronna Nellies</td>\n",
       "      <td>12</td>\n",
       "      <td>21</td>\n",
       "    </tr>\n",
       "    <tr>\n",
       "      <th>1</th>\n",
       "      <td>2012-07-21</td>\n",
       "      <td>Rusty Andriulis</td>\n",
       "      <td>7</td>\n",
       "      <td>21</td>\n",
       "    </tr>\n",
       "    <tr>\n",
       "      <th>2</th>\n",
       "      <td>2011-12-04</td>\n",
       "      <td>Roberta Oakeshott</td>\n",
       "      <td>12</td>\n",
       "      <td>4</td>\n",
       "    </tr>\n",
       "    <tr>\n",
       "      <th>3</th>\n",
       "      <td>2012-06-29</td>\n",
       "      <td>Lola Rubinfajn</td>\n",
       "      <td>6</td>\n",
       "      <td>29</td>\n",
       "    </tr>\n",
       "    <tr>\n",
       "      <th>4</th>\n",
       "      <td>2012-07-10</td>\n",
       "      <td>Kamila Benedtti</td>\n",
       "      <td>7</td>\n",
       "      <td>10</td>\n",
       "    </tr>\n",
       "  </tbody>\n",
       "</table>\n",
       "</div>"
      ],
      "text/plain": [
       "  Date of Birth         Pupil Name  month  day\n",
       "0    2013-12-21      Ronna Nellies     12   21\n",
       "1    2012-07-21    Rusty Andriulis      7   21\n",
       "2    2011-12-04  Roberta Oakeshott     12    4\n",
       "3    2012-06-29     Lola Rubinfajn      6   29\n",
       "4    2012-07-10    Kamila Benedtti      7   10"
      ]
     },
     "execution_count": 64,
     "metadata": {},
     "output_type": "execute_result"
    }
   ],
   "source": [
    "data.head()"
   ]
  },
  {
   "cell_type": "code",
   "execution_count": 65,
   "metadata": {},
   "outputs": [],
   "source": [
    "data[\"This Year's Birthday\"]=\"2022\"+\"-\"+data['month'].map(str)+\"-\"+data['day'].map(str)"
   ]
  },
  {
   "cell_type": "code",
   "execution_count": 66,
   "metadata": {},
   "outputs": [
    {
     "data": {
      "text/plain": [
       "Date of Birth           datetime64[ns]\n",
       "Pupil Name                      object\n",
       "month                            int64\n",
       "day                              int64\n",
       "This Year's Birthday            object\n",
       "dtype: object"
      ]
     },
     "execution_count": 66,
     "metadata": {},
     "output_type": "execute_result"
    }
   ],
   "source": [
    "data.dtypes"
   ]
  },
  {
   "cell_type": "code",
   "execution_count": 67,
   "metadata": {},
   "outputs": [],
   "source": [
    "data['This Year\\'s Birthday']=pd.to_datetime(data['This Year\\'s Birthday'])"
   ]
  },
  {
   "cell_type": "code",
   "execution_count": 68,
   "metadata": {},
   "outputs": [],
   "source": [
    "data=data.drop(['month','day'],axis=1)"
   ]
  },
  {
   "cell_type": "code",
   "execution_count": 69,
   "metadata": {},
   "outputs": [
    {
     "data": {
      "text/html": [
       "<div>\n",
       "<style scoped>\n",
       "    .dataframe tbody tr th:only-of-type {\n",
       "        vertical-align: middle;\n",
       "    }\n",
       "\n",
       "    .dataframe tbody tr th {\n",
       "        vertical-align: top;\n",
       "    }\n",
       "\n",
       "    .dataframe thead th {\n",
       "        text-align: right;\n",
       "    }\n",
       "</style>\n",
       "<table border=\"1\" class=\"dataframe\">\n",
       "  <thead>\n",
       "    <tr style=\"text-align: right;\">\n",
       "      <th></th>\n",
       "      <th>Date of Birth</th>\n",
       "      <th>Pupil Name</th>\n",
       "      <th>This Year's Birthday</th>\n",
       "    </tr>\n",
       "  </thead>\n",
       "  <tbody>\n",
       "    <tr>\n",
       "      <th>0</th>\n",
       "      <td>2013-12-21</td>\n",
       "      <td>Ronna Nellies</td>\n",
       "      <td>2022-12-21</td>\n",
       "    </tr>\n",
       "    <tr>\n",
       "      <th>1</th>\n",
       "      <td>2012-07-21</td>\n",
       "      <td>Rusty Andriulis</td>\n",
       "      <td>2022-07-21</td>\n",
       "    </tr>\n",
       "    <tr>\n",
       "      <th>2</th>\n",
       "      <td>2011-12-04</td>\n",
       "      <td>Roberta Oakeshott</td>\n",
       "      <td>2022-12-04</td>\n",
       "    </tr>\n",
       "    <tr>\n",
       "      <th>3</th>\n",
       "      <td>2012-06-29</td>\n",
       "      <td>Lola Rubinfajn</td>\n",
       "      <td>2022-06-29</td>\n",
       "    </tr>\n",
       "    <tr>\n",
       "      <th>4</th>\n",
       "      <td>2012-07-10</td>\n",
       "      <td>Kamila Benedtti</td>\n",
       "      <td>2022-07-10</td>\n",
       "    </tr>\n",
       "  </tbody>\n",
       "</table>\n",
       "</div>"
      ],
      "text/plain": [
       "  Date of Birth         Pupil Name This Year's Birthday\n",
       "0    2013-12-21      Ronna Nellies           2022-12-21\n",
       "1    2012-07-21    Rusty Andriulis           2022-07-21\n",
       "2    2011-12-04  Roberta Oakeshott           2022-12-04\n",
       "3    2012-06-29     Lola Rubinfajn           2022-06-29\n",
       "4    2012-07-10    Kamila Benedtti           2022-07-10"
      ]
     },
     "execution_count": 69,
     "metadata": {},
     "output_type": "execute_result"
    }
   ],
   "source": [
    "data.head()"
   ]
  },
  {
   "cell_type": "code",
   "execution_count": 72,
   "metadata": {},
   "outputs": [],
   "source": [
    "data['Month']=data['This Year\\'s Birthday'].dt.month_name()"
   ]
  },
  {
   "cell_type": "code",
   "execution_count": 80,
   "metadata": {},
   "outputs": [],
   "source": [
    "data['Cake Needed On']=data['This Year\\'s Birthday'].dt.day_name()"
   ]
  },
  {
   "cell_type": "code",
   "execution_count": 81,
   "metadata": {},
   "outputs": [
    {
     "data": {
      "text/html": [
       "<div>\n",
       "<style scoped>\n",
       "    .dataframe tbody tr th:only-of-type {\n",
       "        vertical-align: middle;\n",
       "    }\n",
       "\n",
       "    .dataframe tbody tr th {\n",
       "        vertical-align: top;\n",
       "    }\n",
       "\n",
       "    .dataframe thead th {\n",
       "        text-align: right;\n",
       "    }\n",
       "</style>\n",
       "<table border=\"1\" class=\"dataframe\">\n",
       "  <thead>\n",
       "    <tr style=\"text-align: right;\">\n",
       "      <th></th>\n",
       "      <th>Date of Birth</th>\n",
       "      <th>Pupil Name</th>\n",
       "      <th>This Year's Birthday</th>\n",
       "      <th>Month</th>\n",
       "      <th>Cake Needed On</th>\n",
       "    </tr>\n",
       "  </thead>\n",
       "  <tbody>\n",
       "    <tr>\n",
       "      <th>0</th>\n",
       "      <td>2013-12-21</td>\n",
       "      <td>Ronna Nellies</td>\n",
       "      <td>2022-12-21</td>\n",
       "      <td>December</td>\n",
       "      <td>Wednesday</td>\n",
       "    </tr>\n",
       "    <tr>\n",
       "      <th>1</th>\n",
       "      <td>2012-07-21</td>\n",
       "      <td>Rusty Andriulis</td>\n",
       "      <td>2022-07-21</td>\n",
       "      <td>July</td>\n",
       "      <td>Thursday</td>\n",
       "    </tr>\n",
       "  </tbody>\n",
       "</table>\n",
       "</div>"
      ],
      "text/plain": [
       "  Date of Birth       Pupil Name This Year's Birthday     Month Cake Needed On\n",
       "0    2013-12-21    Ronna Nellies           2022-12-21  December      Wednesday\n",
       "1    2012-07-21  Rusty Andriulis           2022-07-21      July       Thursday"
      ]
     },
     "execution_count": 81,
     "metadata": {},
     "output_type": "execute_result"
    }
   ],
   "source": [
    "data.head(2)"
   ]
  },
  {
   "cell_type": "code",
   "execution_count": 92,
   "metadata": {},
   "outputs": [],
   "source": [
    "data[\"Cake Needed On\"]=np.where((data['Cake Needed On']==\"Saturday\"),\"Friday\",data[\"Cake Needed On\"])"
   ]
  },
  {
   "cell_type": "code",
   "execution_count": 93,
   "metadata": {},
   "outputs": [],
   "source": [
    "data[\"Cake Needed On\"]=np.where((data['Cake Needed On']==\"Sunday\"),\"Friday\",data[\"Cake Needed On\"])"
   ]
  },
  {
   "cell_type": "code",
   "execution_count": 94,
   "metadata": {},
   "outputs": [],
   "source": [
    "data2=data.groupby([\"Month\", \"Cake Needed On\"]).size().reset_index(name=\"BDs per weekday and month\")"
   ]
  },
  {
   "cell_type": "code",
   "execution_count": 103,
   "metadata": {},
   "outputs": [
    {
     "data": {
      "text/html": [
       "<div>\n",
       "<style scoped>\n",
       "    .dataframe tbody tr th:only-of-type {\n",
       "        vertical-align: middle;\n",
       "    }\n",
       "\n",
       "    .dataframe tbody tr th {\n",
       "        vertical-align: top;\n",
       "    }\n",
       "\n",
       "    .dataframe thead th {\n",
       "        text-align: right;\n",
       "    }\n",
       "</style>\n",
       "<table border=\"1\" class=\"dataframe\">\n",
       "  <thead>\n",
       "    <tr style=\"text-align: right;\">\n",
       "      <th></th>\n",
       "      <th>Month</th>\n",
       "      <th>Cake Needed On</th>\n",
       "      <th>BDs per weekday and month</th>\n",
       "    </tr>\n",
       "  </thead>\n",
       "  <tbody>\n",
       "    <tr>\n",
       "      <th>0</th>\n",
       "      <td>April</td>\n",
       "      <td>Friday</td>\n",
       "      <td>55</td>\n",
       "    </tr>\n",
       "    <tr>\n",
       "      <th>1</th>\n",
       "      <td>April</td>\n",
       "      <td>Monday</td>\n",
       "      <td>10</td>\n",
       "    </tr>\n",
       "    <tr>\n",
       "      <th>2</th>\n",
       "      <td>April</td>\n",
       "      <td>Thursday</td>\n",
       "      <td>11</td>\n",
       "    </tr>\n",
       "    <tr>\n",
       "      <th>3</th>\n",
       "      <td>April</td>\n",
       "      <td>Tuesday</td>\n",
       "      <td>4</td>\n",
       "    </tr>\n",
       "    <tr>\n",
       "      <th>4</th>\n",
       "      <td>April</td>\n",
       "      <td>Wednesday</td>\n",
       "      <td>12</td>\n",
       "    </tr>\n",
       "  </tbody>\n",
       "</table>\n",
       "</div>"
      ],
      "text/plain": [
       "   Month Cake Needed On  BDs per weekday and month\n",
       "0  April         Friday                         55\n",
       "1  April         Monday                         10\n",
       "2  April       Thursday                         11\n",
       "3  April        Tuesday                          4\n",
       "4  April      Wednesday                         12"
      ]
     },
     "execution_count": 103,
     "metadata": {},
     "output_type": "execute_result"
    }
   ],
   "source": [
    "data2.head()"
   ]
  },
  {
   "cell_type": "code",
   "execution_count": 99,
   "metadata": {},
   "outputs": [],
   "source": [
    "final=data.merge(data2, on=['Month','Cake Needed On'], how='left')"
   ]
  },
  {
   "cell_type": "code",
   "execution_count": 106,
   "metadata": {},
   "outputs": [],
   "source": [
    "column_names=[\"Pupil Name\",\"Date of Birth\",\"This Year's Birthday\",\"Month\",\"Cake Needed On\",\"BDs per weekday and month\"]"
   ]
  },
  {
   "cell_type": "code",
   "execution_count": 107,
   "metadata": {},
   "outputs": [],
   "source": [
    "final=final.reindex(columns=column_names)"
   ]
  },
  {
   "cell_type": "code",
   "execution_count": 108,
   "metadata": {},
   "outputs": [
    {
     "data": {
      "text/html": [
       "<div>\n",
       "<style scoped>\n",
       "    .dataframe tbody tr th:only-of-type {\n",
       "        vertical-align: middle;\n",
       "    }\n",
       "\n",
       "    .dataframe tbody tr th {\n",
       "        vertical-align: top;\n",
       "    }\n",
       "\n",
       "    .dataframe thead th {\n",
       "        text-align: right;\n",
       "    }\n",
       "</style>\n",
       "<table border=\"1\" class=\"dataframe\">\n",
       "  <thead>\n",
       "    <tr style=\"text-align: right;\">\n",
       "      <th></th>\n",
       "      <th>Pupil Name</th>\n",
       "      <th>Date of Birth</th>\n",
       "      <th>This Year's Birthday</th>\n",
       "      <th>Month</th>\n",
       "      <th>Cake Needed On</th>\n",
       "      <th>BDs per weekday and month</th>\n",
       "    </tr>\n",
       "  </thead>\n",
       "  <tbody>\n",
       "    <tr>\n",
       "      <th>990</th>\n",
       "      <td>Gwen Glowinski</td>\n",
       "      <td>2012-03-04</td>\n",
       "      <td>2022-03-04</td>\n",
       "      <td>March</td>\n",
       "      <td>Friday</td>\n",
       "      <td>31</td>\n",
       "    </tr>\n",
       "    <tr>\n",
       "      <th>991</th>\n",
       "      <td>Henrie Wrightson</td>\n",
       "      <td>2014-12-01</td>\n",
       "      <td>2022-12-01</td>\n",
       "      <td>December</td>\n",
       "      <td>Thursday</td>\n",
       "      <td>20</td>\n",
       "    </tr>\n",
       "    <tr>\n",
       "      <th>992</th>\n",
       "      <td>Ludwig Raine</td>\n",
       "      <td>2014-02-18</td>\n",
       "      <td>2022-02-18</td>\n",
       "      <td>February</td>\n",
       "      <td>Friday</td>\n",
       "      <td>31</td>\n",
       "    </tr>\n",
       "    <tr>\n",
       "      <th>993</th>\n",
       "      <td>Hamel Pie</td>\n",
       "      <td>2013-12-24</td>\n",
       "      <td>2022-12-24</td>\n",
       "      <td>December</td>\n",
       "      <td>Friday</td>\n",
       "      <td>45</td>\n",
       "    </tr>\n",
       "    <tr>\n",
       "      <th>994</th>\n",
       "      <td>Tamma Sergison</td>\n",
       "      <td>2012-06-19</td>\n",
       "      <td>2022-06-19</td>\n",
       "      <td>June</td>\n",
       "      <td>Friday</td>\n",
       "      <td>30</td>\n",
       "    </tr>\n",
       "    <tr>\n",
       "      <th>995</th>\n",
       "      <td>Ninetta Worling</td>\n",
       "      <td>2015-02-15</td>\n",
       "      <td>2022-02-15</td>\n",
       "      <td>February</td>\n",
       "      <td>Tuesday</td>\n",
       "      <td>13</td>\n",
       "    </tr>\n",
       "    <tr>\n",
       "      <th>996</th>\n",
       "      <td>Stanford Tinton</td>\n",
       "      <td>2013-04-09</td>\n",
       "      <td>2022-04-09</td>\n",
       "      <td>April</td>\n",
       "      <td>Friday</td>\n",
       "      <td>55</td>\n",
       "    </tr>\n",
       "    <tr>\n",
       "      <th>997</th>\n",
       "      <td>Ertha MacCook</td>\n",
       "      <td>2013-12-14</td>\n",
       "      <td>2022-12-14</td>\n",
       "      <td>December</td>\n",
       "      <td>Wednesday</td>\n",
       "      <td>9</td>\n",
       "    </tr>\n",
       "    <tr>\n",
       "      <th>998</th>\n",
       "      <td>Lawton Randles</td>\n",
       "      <td>2011-12-12</td>\n",
       "      <td>2022-12-12</td>\n",
       "      <td>December</td>\n",
       "      <td>Monday</td>\n",
       "      <td>20</td>\n",
       "    </tr>\n",
       "    <tr>\n",
       "      <th>999</th>\n",
       "      <td>Engracia Pashbee</td>\n",
       "      <td>2013-09-23</td>\n",
       "      <td>2022-09-23</td>\n",
       "      <td>September</td>\n",
       "      <td>Friday</td>\n",
       "      <td>36</td>\n",
       "    </tr>\n",
       "  </tbody>\n",
       "</table>\n",
       "</div>"
      ],
      "text/plain": [
       "           Pupil Name Date of Birth This Year's Birthday      Month  \\\n",
       "990    Gwen Glowinski    2012-03-04           2022-03-04      March   \n",
       "991  Henrie Wrightson    2014-12-01           2022-12-01   December   \n",
       "992      Ludwig Raine    2014-02-18           2022-02-18   February   \n",
       "993         Hamel Pie    2013-12-24           2022-12-24   December   \n",
       "994    Tamma Sergison    2012-06-19           2022-06-19       June   \n",
       "995   Ninetta Worling    2015-02-15           2022-02-15   February   \n",
       "996   Stanford Tinton    2013-04-09           2022-04-09      April   \n",
       "997     Ertha MacCook    2013-12-14           2022-12-14   December   \n",
       "998    Lawton Randles    2011-12-12           2022-12-12   December   \n",
       "999  Engracia Pashbee    2013-09-23           2022-09-23  September   \n",
       "\n",
       "    Cake Needed On  BDs per weekday and month  \n",
       "990         Friday                         31  \n",
       "991       Thursday                         20  \n",
       "992         Friday                         31  \n",
       "993         Friday                         45  \n",
       "994         Friday                         30  \n",
       "995        Tuesday                         13  \n",
       "996         Friday                         55  \n",
       "997      Wednesday                          9  \n",
       "998         Monday                         20  \n",
       "999         Friday                         36  "
      ]
     },
     "execution_count": 108,
     "metadata": {},
     "output_type": "execute_result"
    }
   ],
   "source": [
    "final.tail(10)"
   ]
  }
 ],
 "metadata": {
  "kernelspec": {
   "display_name": "Python 3",
   "language": "python",
   "name": "python3"
  },
  "language_info": {
   "codemirror_mode": {
    "name": "ipython",
    "version": 3
   },
   "file_extension": ".py",
   "mimetype": "text/x-python",
   "name": "python",
   "nbconvert_exporter": "python",
   "pygments_lexer": "ipython3",
   "version": "3.8.3"
  }
 },
 "nbformat": 4,
 "nbformat_minor": 4
}
